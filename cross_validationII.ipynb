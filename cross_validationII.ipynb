{
 "cells": [
  {
   "cell_type": "markdown",
   "metadata": {},
   "source": [
    "# Árvores II - Cross Validation II"
   ]
  },
  {
   "cell_type": "markdown",
   "metadata": {},
   "source": [
    "### 1. Carregar as bases\n",
    "\n",
    "Vamos utilizar nesta tarefa as bases de reconhecimento de atividade humana através do celular. Carregue novamente as bases salvas na tarefa I."
   ]
  },
  {
   "cell_type": "code",
   "execution_count": 26,
   "metadata": {},
   "outputs": [],
   "source": [
    "import pandas as pd\n",
    "import seaborn as sns\n",
    "import matplotlib.pyplot as plt\n",
    "import numpy as np\n",
    "from sklearn.tree import DecisionTreeClassifier\n",
    "from sklearn.model_selection import train_test_split\n",
    "from sklearn.metrics import ConfusionMatrixDisplay, confusion_matrix\n",
    "from sklearn.model_selection import GridSearchCV"
   ]
  },
  {
   "cell_type": "code",
   "execution_count": 2,
   "metadata": {},
   "outputs": [],
   "source": [
    "X_train = pd.read_csv('X_train_novo.csv', index_col=['index','individuo'])\n",
    "y_train = pd.read_csv('y_train_novo.csv',index_col='Unnamed: 0')\n",
    "\n",
    "X_test = pd.read_csv('X_test_novo.csv', index_col=['index','individuo'])\n",
    "y_test = pd.read_csv('y_test_novo.csv',index_col='Unnamed: 0')"
   ]
  },
  {
   "cell_type": "markdown",
   "metadata": {},
   "source": [
    "### 2. Calcule os ```ccp_alphas```. \n",
    "\n",
    "\n",
    "- Utilizar treinamento e teste conforme já vieram definidos originalmente\n",
    "- Por pragmatismo, utilizar ```min_samples_leaf=20```\n",
    "- Utilize as mesmas \"3 melhores variáveis\""
   ]
  },
  {
   "cell_type": "code",
   "execution_count": 13,
   "metadata": {},
   "outputs": [],
   "source": [
    "SEED = 1729\n",
    "X_train, X_valid, y_train, y_valid = train_test_split(X_train, y_train, test_size=.25, random_state=SEED)"
   ]
  },
  {
   "cell_type": "code",
   "execution_count": 14,
   "metadata": {},
   "outputs": [],
   "source": [
    "SEED = 1729\n",
    "caminho = DecisionTreeClassifier(max_depth=4, min_samples_leaf=20,\n",
    "                                 random_state=SEED).cost_complexity_pruning_path(X_train,y_train)\n",
    "ccp_alphas, impurities = caminho.ccp_alphas, caminho.impurities\n",
    "\n",
    "clfs = []\n",
    "for ccp_alpha in ccp_alphas:\n",
    "    clf = DecisionTreeClassifier(random_state=SEED, ccp_alpha=ccp_alpha).fit(X_train,y_train)\n",
    "    clfs.append(clf)"
   ]
  },
  {
   "cell_type": "code",
   "execution_count": 15,
   "metadata": {},
   "outputs": [
    {
     "name": "stdout",
     "output_type": "stream",
     "text": [
      "Acurácia da melhor árvore na base de validação: 93.18\n"
     ]
    },
    {
     "data": {
      "text/html": [
       "<style>#sk-container-id-3 {color: black;background-color: white;}#sk-container-id-3 pre{padding: 0;}#sk-container-id-3 div.sk-toggleable {background-color: white;}#sk-container-id-3 label.sk-toggleable__label {cursor: pointer;display: block;width: 100%;margin-bottom: 0;padding: 0.3em;box-sizing: border-box;text-align: center;}#sk-container-id-3 label.sk-toggleable__label-arrow:before {content: \"▸\";float: left;margin-right: 0.25em;color: #696969;}#sk-container-id-3 label.sk-toggleable__label-arrow:hover:before {color: black;}#sk-container-id-3 div.sk-estimator:hover label.sk-toggleable__label-arrow:before {color: black;}#sk-container-id-3 div.sk-toggleable__content {max-height: 0;max-width: 0;overflow: hidden;text-align: left;background-color: #f0f8ff;}#sk-container-id-3 div.sk-toggleable__content pre {margin: 0.2em;color: black;border-radius: 0.25em;background-color: #f0f8ff;}#sk-container-id-3 input.sk-toggleable__control:checked~div.sk-toggleable__content {max-height: 200px;max-width: 100%;overflow: auto;}#sk-container-id-3 input.sk-toggleable__control:checked~label.sk-toggleable__label-arrow:before {content: \"▾\";}#sk-container-id-3 div.sk-estimator input.sk-toggleable__control:checked~label.sk-toggleable__label {background-color: #d4ebff;}#sk-container-id-3 div.sk-label input.sk-toggleable__control:checked~label.sk-toggleable__label {background-color: #d4ebff;}#sk-container-id-3 input.sk-hidden--visually {border: 0;clip: rect(1px 1px 1px 1px);clip: rect(1px, 1px, 1px, 1px);height: 1px;margin: -1px;overflow: hidden;padding: 0;position: absolute;width: 1px;}#sk-container-id-3 div.sk-estimator {font-family: monospace;background-color: #f0f8ff;border: 1px dotted black;border-radius: 0.25em;box-sizing: border-box;margin-bottom: 0.5em;}#sk-container-id-3 div.sk-estimator:hover {background-color: #d4ebff;}#sk-container-id-3 div.sk-parallel-item::after {content: \"\";width: 100%;border-bottom: 1px solid gray;flex-grow: 1;}#sk-container-id-3 div.sk-label:hover label.sk-toggleable__label {background-color: #d4ebff;}#sk-container-id-3 div.sk-serial::before {content: \"\";position: absolute;border-left: 1px solid gray;box-sizing: border-box;top: 0;bottom: 0;left: 50%;z-index: 0;}#sk-container-id-3 div.sk-serial {display: flex;flex-direction: column;align-items: center;background-color: white;padding-right: 0.2em;padding-left: 0.2em;position: relative;}#sk-container-id-3 div.sk-item {position: relative;z-index: 1;}#sk-container-id-3 div.sk-parallel {display: flex;align-items: stretch;justify-content: center;background-color: white;position: relative;}#sk-container-id-3 div.sk-item::before, #sk-container-id-3 div.sk-parallel-item::before {content: \"\";position: absolute;border-left: 1px solid gray;box-sizing: border-box;top: 0;bottom: 0;left: 50%;z-index: -1;}#sk-container-id-3 div.sk-parallel-item {display: flex;flex-direction: column;z-index: 1;position: relative;background-color: white;}#sk-container-id-3 div.sk-parallel-item:first-child::after {align-self: flex-end;width: 50%;}#sk-container-id-3 div.sk-parallel-item:last-child::after {align-self: flex-start;width: 50%;}#sk-container-id-3 div.sk-parallel-item:only-child::after {width: 0;}#sk-container-id-3 div.sk-dashed-wrapped {border: 1px dashed gray;margin: 0 0.4em 0.5em 0.4em;box-sizing: border-box;padding-bottom: 0.4em;background-color: white;}#sk-container-id-3 div.sk-label label {font-family: monospace;font-weight: bold;display: inline-block;line-height: 1.2em;}#sk-container-id-3 div.sk-label-container {text-align: center;}#sk-container-id-3 div.sk-container {/* jupyter's `normalize.less` sets `[hidden] { display: none; }` but bootstrap.min.css set `[hidden] { display: none !important; }` so we also need the `!important` here to be able to override the default hidden behavior on the sphinx rendered scikit-learn.org. See: https://github.com/scikit-learn/scikit-learn/issues/21755 */display: inline-block !important;position: relative;}#sk-container-id-3 div.sk-text-repr-fallback {display: none;}</style><div id=\"sk-container-id-3\" class=\"sk-top-container\"><div class=\"sk-text-repr-fallback\"><pre>DecisionTreeClassifier(random_state=1729)</pre><b>In a Jupyter environment, please rerun this cell to show the HTML representation or trust the notebook. <br />On GitHub, the HTML representation is unable to render, please try loading this page with nbviewer.org.</b></div><div class=\"sk-container\" hidden><div class=\"sk-item\"><div class=\"sk-estimator sk-toggleable\"><input class=\"sk-toggleable__control sk-hidden--visually\" id=\"sk-estimator-id-3\" type=\"checkbox\" checked><label for=\"sk-estimator-id-3\" class=\"sk-toggleable__label sk-toggleable__label-arrow\">DecisionTreeClassifier</label><div class=\"sk-toggleable__content\"><pre>DecisionTreeClassifier(random_state=1729)</pre></div></div></div></div></div>"
      ],
      "text/plain": [
       "DecisionTreeClassifier(random_state=1729)"
      ]
     },
     "execution_count": 15,
     "metadata": {},
     "output_type": "execute_result"
    }
   ],
   "source": [
    "train_scores = [clf.score(X_train,y_train) for clf in clfs]\n",
    "valid_scores = [clf.score(X_valid, y_valid) for clf in clfs]\n",
    "\n",
    "ind_melhor_arvore = len(valid_scores) - valid_scores[::-1].index(max(valid_scores)) - 1\n",
    "melhor_arvore = clfs[ind_melhor_arvore]\n",
    "\n",
    "print(f'Acurácia da melhor árvore na base de validação: {valid_scores[ind_melhor_arvore]*100:.2f}')\n",
    "\n",
    "melhor_arvore"
   ]
  },
  {
   "cell_type": "code",
   "execution_count": 16,
   "metadata": {},
   "outputs": [
    {
     "data": {
      "text/html": [
       "<div>\n",
       "<style scoped>\n",
       "    .dataframe tbody tr th:only-of-type {\n",
       "        vertical-align: middle;\n",
       "    }\n",
       "\n",
       "    .dataframe tbody tr th {\n",
       "        vertical-align: top;\n",
       "    }\n",
       "\n",
       "    .dataframe thead th {\n",
       "        text-align: right;\n",
       "    }\n",
       "</style>\n",
       "<table border=\"1\" class=\"dataframe\">\n",
       "  <thead>\n",
       "    <tr style=\"text-align: right;\">\n",
       "      <th></th>\n",
       "      <th>feature</th>\n",
       "      <th>importance</th>\n",
       "    </tr>\n",
       "  </thead>\n",
       "  <tbody>\n",
       "    <tr>\n",
       "      <th>52</th>\n",
       "      <td>53 tGravityAcc-min()-X</td>\n",
       "      <td>0.219909</td>\n",
       "    </tr>\n",
       "    <tr>\n",
       "      <th>265</th>\n",
       "      <td>266 fBodyAcc-mean()-X</td>\n",
       "      <td>0.202716</td>\n",
       "    </tr>\n",
       "    <tr>\n",
       "      <th>41</th>\n",
       "      <td>42 tGravityAcc-mean()-Y</td>\n",
       "      <td>0.135141</td>\n",
       "    </tr>\n",
       "  </tbody>\n",
       "</table>\n",
       "</div>"
      ],
      "text/plain": [
       "                     feature  importance\n",
       "52    53 tGravityAcc-min()-X    0.219909\n",
       "265    266 fBodyAcc-mean()-X    0.202716\n",
       "41   42 tGravityAcc-mean()-Y    0.135141"
      ]
     },
     "execution_count": 16,
     "metadata": {},
     "output_type": "execute_result"
    }
   ],
   "source": [
    "importance = ({\"feature\": list(X_train.columns),\n",
    "               \"importance\": melhor_arvore.feature_importances_})\n",
    "\n",
    "importance_clf = pd.DataFrame(importance).sort_values(\"importance\", ascending=False)\n",
    "importance_clf.head(3)"
   ]
  },
  {
   "cell_type": "code",
   "execution_count": 20,
   "metadata": {},
   "outputs": [
    {
     "name": "stdout",
     "output_type": "stream",
     "text": [
      "Acurácia da melhor árvore na base de validação: 87.53\n"
     ]
    },
    {
     "data": {
      "text/html": [
       "<style>#sk-container-id-4 {color: black;background-color: white;}#sk-container-id-4 pre{padding: 0;}#sk-container-id-4 div.sk-toggleable {background-color: white;}#sk-container-id-4 label.sk-toggleable__label {cursor: pointer;display: block;width: 100%;margin-bottom: 0;padding: 0.3em;box-sizing: border-box;text-align: center;}#sk-container-id-4 label.sk-toggleable__label-arrow:before {content: \"▸\";float: left;margin-right: 0.25em;color: #696969;}#sk-container-id-4 label.sk-toggleable__label-arrow:hover:before {color: black;}#sk-container-id-4 div.sk-estimator:hover label.sk-toggleable__label-arrow:before {color: black;}#sk-container-id-4 div.sk-toggleable__content {max-height: 0;max-width: 0;overflow: hidden;text-align: left;background-color: #f0f8ff;}#sk-container-id-4 div.sk-toggleable__content pre {margin: 0.2em;color: black;border-radius: 0.25em;background-color: #f0f8ff;}#sk-container-id-4 input.sk-toggleable__control:checked~div.sk-toggleable__content {max-height: 200px;max-width: 100%;overflow: auto;}#sk-container-id-4 input.sk-toggleable__control:checked~label.sk-toggleable__label-arrow:before {content: \"▾\";}#sk-container-id-4 div.sk-estimator input.sk-toggleable__control:checked~label.sk-toggleable__label {background-color: #d4ebff;}#sk-container-id-4 div.sk-label input.sk-toggleable__control:checked~label.sk-toggleable__label {background-color: #d4ebff;}#sk-container-id-4 input.sk-hidden--visually {border: 0;clip: rect(1px 1px 1px 1px);clip: rect(1px, 1px, 1px, 1px);height: 1px;margin: -1px;overflow: hidden;padding: 0;position: absolute;width: 1px;}#sk-container-id-4 div.sk-estimator {font-family: monospace;background-color: #f0f8ff;border: 1px dotted black;border-radius: 0.25em;box-sizing: border-box;margin-bottom: 0.5em;}#sk-container-id-4 div.sk-estimator:hover {background-color: #d4ebff;}#sk-container-id-4 div.sk-parallel-item::after {content: \"\";width: 100%;border-bottom: 1px solid gray;flex-grow: 1;}#sk-container-id-4 div.sk-label:hover label.sk-toggleable__label {background-color: #d4ebff;}#sk-container-id-4 div.sk-serial::before {content: \"\";position: absolute;border-left: 1px solid gray;box-sizing: border-box;top: 0;bottom: 0;left: 50%;z-index: 0;}#sk-container-id-4 div.sk-serial {display: flex;flex-direction: column;align-items: center;background-color: white;padding-right: 0.2em;padding-left: 0.2em;position: relative;}#sk-container-id-4 div.sk-item {position: relative;z-index: 1;}#sk-container-id-4 div.sk-parallel {display: flex;align-items: stretch;justify-content: center;background-color: white;position: relative;}#sk-container-id-4 div.sk-item::before, #sk-container-id-4 div.sk-parallel-item::before {content: \"\";position: absolute;border-left: 1px solid gray;box-sizing: border-box;top: 0;bottom: 0;left: 50%;z-index: -1;}#sk-container-id-4 div.sk-parallel-item {display: flex;flex-direction: column;z-index: 1;position: relative;background-color: white;}#sk-container-id-4 div.sk-parallel-item:first-child::after {align-self: flex-end;width: 50%;}#sk-container-id-4 div.sk-parallel-item:last-child::after {align-self: flex-start;width: 50%;}#sk-container-id-4 div.sk-parallel-item:only-child::after {width: 0;}#sk-container-id-4 div.sk-dashed-wrapped {border: 1px dashed gray;margin: 0 0.4em 0.5em 0.4em;box-sizing: border-box;padding-bottom: 0.4em;background-color: white;}#sk-container-id-4 div.sk-label label {font-family: monospace;font-weight: bold;display: inline-block;line-height: 1.2em;}#sk-container-id-4 div.sk-label-container {text-align: center;}#sk-container-id-4 div.sk-container {/* jupyter's `normalize.less` sets `[hidden] { display: none; }` but bootstrap.min.css set `[hidden] { display: none !important; }` so we also need the `!important` here to be able to override the default hidden behavior on the sphinx rendered scikit-learn.org. See: https://github.com/scikit-learn/scikit-learn/issues/21755 */display: inline-block !important;position: relative;}#sk-container-id-4 div.sk-text-repr-fallback {display: none;}</style><div id=\"sk-container-id-4\" class=\"sk-top-container\"><div class=\"sk-text-repr-fallback\"><pre>DecisionTreeClassifier(ccp_alpha=0.0019005960266067316, random_state=1729)</pre><b>In a Jupyter environment, please rerun this cell to show the HTML representation or trust the notebook. <br />On GitHub, the HTML representation is unable to render, please try loading this page with nbviewer.org.</b></div><div class=\"sk-container\" hidden><div class=\"sk-item\"><div class=\"sk-estimator sk-toggleable\"><input class=\"sk-toggleable__control sk-hidden--visually\" id=\"sk-estimator-id-4\" type=\"checkbox\" checked><label for=\"sk-estimator-id-4\" class=\"sk-toggleable__label sk-toggleable__label-arrow\">DecisionTreeClassifier</label><div class=\"sk-toggleable__content\"><pre>DecisionTreeClassifier(ccp_alpha=0.0019005960266067316, random_state=1729)</pre></div></div></div></div></div>"
      ],
      "text/plain": [
       "DecisionTreeClassifier(ccp_alpha=0.0019005960266067316, random_state=1729)"
      ]
     },
     "execution_count": 20,
     "metadata": {},
     "output_type": "execute_result"
    }
   ],
   "source": [
    "x_train =X_train.iloc[:,importance_clf[0:3].index]\n",
    "x_valid = X_valid.iloc[:,importance_clf[0:3].index]\n",
    "\n",
    "caminho = DecisionTreeClassifier(max_depth=4, min_samples_leaf=20,\n",
    "                                 random_state=SEED).cost_complexity_pruning_path(x_train,y_train)\n",
    "ccp_alphas, impurities = caminho.ccp_alphas, caminho.impurities\n",
    "\n",
    "clfs = []\n",
    "for ccp_alpha in ccp_alphas:\n",
    "    clf = DecisionTreeClassifier(random_state=SEED, ccp_alpha=ccp_alpha).fit(x_train,y_train)\n",
    "    clfs.append(clf)\n",
    "    \n",
    "train_scores = [clf.score(x_train,y_train) for clf in clfs]\n",
    "valid_scores = [clf.score(x_valid, y_valid) for clf in clfs]\n",
    "\n",
    "ind_melhor_arvore = len(valid_scores) - valid_scores[::-1].index(max(valid_scores)) - 1\n",
    "melhor_arvore = clfs[ind_melhor_arvore]\n",
    "\n",
    "print(f'Acurácia da melhor árvore na base de validação: {valid_scores[ind_melhor_arvore]*100:.2f}')\n",
    "\n",
    "melhor_arvore"
   ]
  },
  {
   "cell_type": "markdown",
   "metadata": {},
   "source": [
    "### 3. *Grid Search*\n",
    "\n",
    "- Meça o tempo\n",
    "- Utilize a base de treinamento\n",
    "- Utilize um *cross validation* do tipo *k-fold*, especifique k=10\n",
    "- Você pode ler 1 a cada ```k``` valores para uma melhor varredura utilizando, por exemplo, ```ccp_alpha[::10]```\n",
    "- Não se esqueça de limitar o número de variáveis"
   ]
  },
  {
   "cell_type": "code",
   "execution_count": 21,
   "metadata": {},
   "outputs": [
    {
     "name": "stdout",
     "output_type": "stream",
     "text": [
      "CPU times: total: 3min 41s\n",
      "Wall time: 3min 42s\n"
     ]
    },
    {
     "data": {
      "text/html": [
       "<style>#sk-container-id-5 {color: black;background-color: white;}#sk-container-id-5 pre{padding: 0;}#sk-container-id-5 div.sk-toggleable {background-color: white;}#sk-container-id-5 label.sk-toggleable__label {cursor: pointer;display: block;width: 100%;margin-bottom: 0;padding: 0.3em;box-sizing: border-box;text-align: center;}#sk-container-id-5 label.sk-toggleable__label-arrow:before {content: \"▸\";float: left;margin-right: 0.25em;color: #696969;}#sk-container-id-5 label.sk-toggleable__label-arrow:hover:before {color: black;}#sk-container-id-5 div.sk-estimator:hover label.sk-toggleable__label-arrow:before {color: black;}#sk-container-id-5 div.sk-toggleable__content {max-height: 0;max-width: 0;overflow: hidden;text-align: left;background-color: #f0f8ff;}#sk-container-id-5 div.sk-toggleable__content pre {margin: 0.2em;color: black;border-radius: 0.25em;background-color: #f0f8ff;}#sk-container-id-5 input.sk-toggleable__control:checked~div.sk-toggleable__content {max-height: 200px;max-width: 100%;overflow: auto;}#sk-container-id-5 input.sk-toggleable__control:checked~label.sk-toggleable__label-arrow:before {content: \"▾\";}#sk-container-id-5 div.sk-estimator input.sk-toggleable__control:checked~label.sk-toggleable__label {background-color: #d4ebff;}#sk-container-id-5 div.sk-label input.sk-toggleable__control:checked~label.sk-toggleable__label {background-color: #d4ebff;}#sk-container-id-5 input.sk-hidden--visually {border: 0;clip: rect(1px 1px 1px 1px);clip: rect(1px, 1px, 1px, 1px);height: 1px;margin: -1px;overflow: hidden;padding: 0;position: absolute;width: 1px;}#sk-container-id-5 div.sk-estimator {font-family: monospace;background-color: #f0f8ff;border: 1px dotted black;border-radius: 0.25em;box-sizing: border-box;margin-bottom: 0.5em;}#sk-container-id-5 div.sk-estimator:hover {background-color: #d4ebff;}#sk-container-id-5 div.sk-parallel-item::after {content: \"\";width: 100%;border-bottom: 1px solid gray;flex-grow: 1;}#sk-container-id-5 div.sk-label:hover label.sk-toggleable__label {background-color: #d4ebff;}#sk-container-id-5 div.sk-serial::before {content: \"\";position: absolute;border-left: 1px solid gray;box-sizing: border-box;top: 0;bottom: 0;left: 50%;z-index: 0;}#sk-container-id-5 div.sk-serial {display: flex;flex-direction: column;align-items: center;background-color: white;padding-right: 0.2em;padding-left: 0.2em;position: relative;}#sk-container-id-5 div.sk-item {position: relative;z-index: 1;}#sk-container-id-5 div.sk-parallel {display: flex;align-items: stretch;justify-content: center;background-color: white;position: relative;}#sk-container-id-5 div.sk-item::before, #sk-container-id-5 div.sk-parallel-item::before {content: \"\";position: absolute;border-left: 1px solid gray;box-sizing: border-box;top: 0;bottom: 0;left: 50%;z-index: -1;}#sk-container-id-5 div.sk-parallel-item {display: flex;flex-direction: column;z-index: 1;position: relative;background-color: white;}#sk-container-id-5 div.sk-parallel-item:first-child::after {align-self: flex-end;width: 50%;}#sk-container-id-5 div.sk-parallel-item:last-child::after {align-self: flex-start;width: 50%;}#sk-container-id-5 div.sk-parallel-item:only-child::after {width: 0;}#sk-container-id-5 div.sk-dashed-wrapped {border: 1px dashed gray;margin: 0 0.4em 0.5em 0.4em;box-sizing: border-box;padding-bottom: 0.4em;background-color: white;}#sk-container-id-5 div.sk-label label {font-family: monospace;font-weight: bold;display: inline-block;line-height: 1.2em;}#sk-container-id-5 div.sk-label-container {text-align: center;}#sk-container-id-5 div.sk-container {/* jupyter's `normalize.less` sets `[hidden] { display: none; }` but bootstrap.min.css set `[hidden] { display: none !important; }` so we also need the `!important` here to be able to override the default hidden behavior on the sphinx rendered scikit-learn.org. See: https://github.com/scikit-learn/scikit-learn/issues/21755 */display: inline-block !important;position: relative;}#sk-container-id-5 div.sk-text-repr-fallback {display: none;}</style><div id=\"sk-container-id-5\" class=\"sk-top-container\"><div class=\"sk-text-repr-fallback\"><pre>GridSearchCV(cv=10,\n",
       "             estimator=DecisionTreeClassifier(ccp_alpha=0.0019005960266067316,\n",
       "                                              random_state=1729),\n",
       "             param_grid={&#x27;ccp_alpha&#x27;: array([0.        , 0.0019006 , 0.00718094, 0.00746207, 0.04740741,\n",
       "       0.07359347, 0.11179106, 0.16840866, 0.1826912 ])})</pre><b>In a Jupyter environment, please rerun this cell to show the HTML representation or trust the notebook. <br />On GitHub, the HTML representation is unable to render, please try loading this page with nbviewer.org.</b></div><div class=\"sk-container\" hidden><div class=\"sk-item sk-dashed-wrapped\"><div class=\"sk-label-container\"><div class=\"sk-label sk-toggleable\"><input class=\"sk-toggleable__control sk-hidden--visually\" id=\"sk-estimator-id-5\" type=\"checkbox\" ><label for=\"sk-estimator-id-5\" class=\"sk-toggleable__label sk-toggleable__label-arrow\">GridSearchCV</label><div class=\"sk-toggleable__content\"><pre>GridSearchCV(cv=10,\n",
       "             estimator=DecisionTreeClassifier(ccp_alpha=0.0019005960266067316,\n",
       "                                              random_state=1729),\n",
       "             param_grid={&#x27;ccp_alpha&#x27;: array([0.        , 0.0019006 , 0.00718094, 0.00746207, 0.04740741,\n",
       "       0.07359347, 0.11179106, 0.16840866, 0.1826912 ])})</pre></div></div></div><div class=\"sk-parallel\"><div class=\"sk-parallel-item\"><div class=\"sk-item\"><div class=\"sk-label-container\"><div class=\"sk-label sk-toggleable\"><input class=\"sk-toggleable__control sk-hidden--visually\" id=\"sk-estimator-id-6\" type=\"checkbox\" ><label for=\"sk-estimator-id-6\" class=\"sk-toggleable__label sk-toggleable__label-arrow\">estimator: DecisionTreeClassifier</label><div class=\"sk-toggleable__content\"><pre>DecisionTreeClassifier(ccp_alpha=0.0019005960266067316, random_state=1729)</pre></div></div></div><div class=\"sk-serial\"><div class=\"sk-item\"><div class=\"sk-estimator sk-toggleable\"><input class=\"sk-toggleable__control sk-hidden--visually\" id=\"sk-estimator-id-7\" type=\"checkbox\" ><label for=\"sk-estimator-id-7\" class=\"sk-toggleable__label sk-toggleable__label-arrow\">DecisionTreeClassifier</label><div class=\"sk-toggleable__content\"><pre>DecisionTreeClassifier(ccp_alpha=0.0019005960266067316, random_state=1729)</pre></div></div></div></div></div></div></div></div></div></div>"
      ],
      "text/plain": [
       "GridSearchCV(cv=10,\n",
       "             estimator=DecisionTreeClassifier(ccp_alpha=0.0019005960266067316,\n",
       "                                              random_state=1729),\n",
       "             param_grid={'ccp_alpha': array([0.        , 0.0019006 , 0.00718094, 0.00746207, 0.04740741,\n",
       "       0.07359347, 0.11179106, 0.16840866, 0.1826912 ])})"
      ]
     },
     "execution_count": 21,
     "metadata": {},
     "output_type": "execute_result"
    }
   ],
   "source": [
    "%%time\n",
    "\n",
    "grid_param = {'ccp_alpha':ccp_alphas}\n",
    "\n",
    "grid = GridSearchCV(estimator = melhor_arvore, param_grid=grid_param, \n",
    "                    cv = 10)\n",
    "grid.fit(X_train,y_train)"
   ]
  },
  {
   "cell_type": "code",
   "execution_count": 22,
   "metadata": {},
   "outputs": [
    {
     "data": {
      "text/html": [
       "<div>\n",
       "<style scoped>\n",
       "    .dataframe tbody tr th:only-of-type {\n",
       "        vertical-align: middle;\n",
       "    }\n",
       "\n",
       "    .dataframe tbody tr th {\n",
       "        vertical-align: top;\n",
       "    }\n",
       "\n",
       "    .dataframe thead th {\n",
       "        text-align: right;\n",
       "    }\n",
       "</style>\n",
       "<table border=\"1\" class=\"dataframe\">\n",
       "  <thead>\n",
       "    <tr style=\"text-align: right;\">\n",
       "      <th></th>\n",
       "      <th>mean_fit_time</th>\n",
       "      <th>std_fit_time</th>\n",
       "      <th>mean_score_time</th>\n",
       "      <th>std_score_time</th>\n",
       "      <th>param_ccp_alpha</th>\n",
       "      <th>params</th>\n",
       "      <th>split0_test_score</th>\n",
       "      <th>split1_test_score</th>\n",
       "      <th>split2_test_score</th>\n",
       "      <th>split3_test_score</th>\n",
       "      <th>split4_test_score</th>\n",
       "      <th>split5_test_score</th>\n",
       "      <th>split6_test_score</th>\n",
       "      <th>split7_test_score</th>\n",
       "      <th>split8_test_score</th>\n",
       "      <th>split9_test_score</th>\n",
       "      <th>mean_test_score</th>\n",
       "      <th>std_test_score</th>\n",
       "      <th>rank_test_score</th>\n",
       "    </tr>\n",
       "  </thead>\n",
       "  <tbody>\n",
       "    <tr>\n",
       "      <th>0</th>\n",
       "      <td>2.534084</td>\n",
       "      <td>0.263541</td>\n",
       "      <td>0.006848</td>\n",
       "      <td>0.003545</td>\n",
       "      <td>0.0</td>\n",
       "      <td>{'ccp_alpha': 0.0}</td>\n",
       "      <td>0.942029</td>\n",
       "      <td>0.932367</td>\n",
       "      <td>0.939614</td>\n",
       "      <td>0.917874</td>\n",
       "      <td>0.944444</td>\n",
       "      <td>0.900726</td>\n",
       "      <td>0.934625</td>\n",
       "      <td>0.927361</td>\n",
       "      <td>0.907990</td>\n",
       "      <td>0.905569</td>\n",
       "      <td>0.925260</td>\n",
       "      <td>0.015298</td>\n",
       "      <td>2</td>\n",
       "    </tr>\n",
       "    <tr>\n",
       "      <th>1</th>\n",
       "      <td>2.451722</td>\n",
       "      <td>0.191117</td>\n",
       "      <td>0.007208</td>\n",
       "      <td>0.003069</td>\n",
       "      <td>0.001901</td>\n",
       "      <td>{'ccp_alpha': 0.0019005960266067316}</td>\n",
       "      <td>0.944444</td>\n",
       "      <td>0.929952</td>\n",
       "      <td>0.927536</td>\n",
       "      <td>0.932367</td>\n",
       "      <td>0.954106</td>\n",
       "      <td>0.915254</td>\n",
       "      <td>0.934625</td>\n",
       "      <td>0.927361</td>\n",
       "      <td>0.915254</td>\n",
       "      <td>0.924939</td>\n",
       "      <td>0.930584</td>\n",
       "      <td>0.011344</td>\n",
       "      <td>1</td>\n",
       "    </tr>\n",
       "    <tr>\n",
       "      <th>2</th>\n",
       "      <td>2.364979</td>\n",
       "      <td>0.265531</td>\n",
       "      <td>0.007742</td>\n",
       "      <td>0.005624</td>\n",
       "      <td>0.007181</td>\n",
       "      <td>{'ccp_alpha': 0.00718094474620129}</td>\n",
       "      <td>0.932367</td>\n",
       "      <td>0.915459</td>\n",
       "      <td>0.903382</td>\n",
       "      <td>0.888889</td>\n",
       "      <td>0.939614</td>\n",
       "      <td>0.907990</td>\n",
       "      <td>0.920097</td>\n",
       "      <td>0.893462</td>\n",
       "      <td>0.895884</td>\n",
       "      <td>0.888620</td>\n",
       "      <td>0.908576</td>\n",
       "      <td>0.017065</td>\n",
       "      <td>3</td>\n",
       "    </tr>\n",
       "    <tr>\n",
       "      <th>3</th>\n",
       "      <td>2.726800</td>\n",
       "      <td>0.249327</td>\n",
       "      <td>0.009342</td>\n",
       "      <td>0.004526</td>\n",
       "      <td>0.007462</td>\n",
       "      <td>{'ccp_alpha': 0.007462070524526878}</td>\n",
       "      <td>0.932367</td>\n",
       "      <td>0.915459</td>\n",
       "      <td>0.903382</td>\n",
       "      <td>0.888889</td>\n",
       "      <td>0.929952</td>\n",
       "      <td>0.905569</td>\n",
       "      <td>0.920097</td>\n",
       "      <td>0.891041</td>\n",
       "      <td>0.891041</td>\n",
       "      <td>0.888620</td>\n",
       "      <td>0.906642</td>\n",
       "      <td>0.016132</td>\n",
       "      <td>4</td>\n",
       "    </tr>\n",
       "    <tr>\n",
       "      <th>4</th>\n",
       "      <td>2.534507</td>\n",
       "      <td>0.244355</td>\n",
       "      <td>0.005988</td>\n",
       "      <td>0.002852</td>\n",
       "      <td>0.047407</td>\n",
       "      <td>{'ccp_alpha': 0.04740741243325547}</td>\n",
       "      <td>0.896135</td>\n",
       "      <td>0.893720</td>\n",
       "      <td>0.893720</td>\n",
       "      <td>0.862319</td>\n",
       "      <td>0.910628</td>\n",
       "      <td>0.871671</td>\n",
       "      <td>0.898305</td>\n",
       "      <td>0.859564</td>\n",
       "      <td>0.866828</td>\n",
       "      <td>0.847458</td>\n",
       "      <td>0.880035</td>\n",
       "      <td>0.019855</td>\n",
       "      <td>5</td>\n",
       "    </tr>\n",
       "    <tr>\n",
       "      <th>5</th>\n",
       "      <td>2.360664</td>\n",
       "      <td>0.187638</td>\n",
       "      <td>0.008610</td>\n",
       "      <td>0.005999</td>\n",
       "      <td>0.073593</td>\n",
       "      <td>{'ccp_alpha': 0.07359346859657476}</td>\n",
       "      <td>0.896135</td>\n",
       "      <td>0.893720</td>\n",
       "      <td>0.893720</td>\n",
       "      <td>0.862319</td>\n",
       "      <td>0.910628</td>\n",
       "      <td>0.871671</td>\n",
       "      <td>0.898305</td>\n",
       "      <td>0.859564</td>\n",
       "      <td>0.866828</td>\n",
       "      <td>0.847458</td>\n",
       "      <td>0.880035</td>\n",
       "      <td>0.019855</td>\n",
       "      <td>5</td>\n",
       "    </tr>\n",
       "    <tr>\n",
       "      <th>6</th>\n",
       "      <td>2.287088</td>\n",
       "      <td>0.180598</td>\n",
       "      <td>0.008472</td>\n",
       "      <td>0.006160</td>\n",
       "      <td>0.111791</td>\n",
       "      <td>{'ccp_alpha': 0.11179106090886329}</td>\n",
       "      <td>0.548309</td>\n",
       "      <td>0.545894</td>\n",
       "      <td>0.543478</td>\n",
       "      <td>0.661836</td>\n",
       "      <td>0.545894</td>\n",
       "      <td>0.547215</td>\n",
       "      <td>0.547215</td>\n",
       "      <td>0.547215</td>\n",
       "      <td>0.658596</td>\n",
       "      <td>0.668281</td>\n",
       "      <td>0.581393</td>\n",
       "      <td>0.053421</td>\n",
       "      <td>7</td>\n",
       "    </tr>\n",
       "    <tr>\n",
       "      <th>7</th>\n",
       "      <td>2.353598</td>\n",
       "      <td>0.217195</td>\n",
       "      <td>0.007738</td>\n",
       "      <td>0.006308</td>\n",
       "      <td>0.168409</td>\n",
       "      <td>{'ccp_alpha': 0.16840865532178284}</td>\n",
       "      <td>0.548309</td>\n",
       "      <td>0.545894</td>\n",
       "      <td>0.371981</td>\n",
       "      <td>0.371981</td>\n",
       "      <td>0.545894</td>\n",
       "      <td>0.375303</td>\n",
       "      <td>0.375303</td>\n",
       "      <td>0.375303</td>\n",
       "      <td>0.375303</td>\n",
       "      <td>0.375303</td>\n",
       "      <td>0.426057</td>\n",
       "      <td>0.078991</td>\n",
       "      <td>8</td>\n",
       "    </tr>\n",
       "    <tr>\n",
       "      <th>8</th>\n",
       "      <td>2.310678</td>\n",
       "      <td>0.136648</td>\n",
       "      <td>0.007252</td>\n",
       "      <td>0.006644</td>\n",
       "      <td>0.182691</td>\n",
       "      <td>{'ccp_alpha': 0.1826911966850756}</td>\n",
       "      <td>0.188406</td>\n",
       "      <td>0.185990</td>\n",
       "      <td>0.371981</td>\n",
       "      <td>0.371981</td>\n",
       "      <td>0.371981</td>\n",
       "      <td>0.375303</td>\n",
       "      <td>0.375303</td>\n",
       "      <td>0.375303</td>\n",
       "      <td>0.375303</td>\n",
       "      <td>0.375303</td>\n",
       "      <td>0.336685</td>\n",
       "      <td>0.074759</td>\n",
       "      <td>9</td>\n",
       "    </tr>\n",
       "  </tbody>\n",
       "</table>\n",
       "</div>"
      ],
      "text/plain": [
       "   mean_fit_time  std_fit_time  mean_score_time  std_score_time  \\\n",
       "0       2.534084      0.263541         0.006848        0.003545   \n",
       "1       2.451722      0.191117         0.007208        0.003069   \n",
       "2       2.364979      0.265531         0.007742        0.005624   \n",
       "3       2.726800      0.249327         0.009342        0.004526   \n",
       "4       2.534507      0.244355         0.005988        0.002852   \n",
       "5       2.360664      0.187638         0.008610        0.005999   \n",
       "6       2.287088      0.180598         0.008472        0.006160   \n",
       "7       2.353598      0.217195         0.007738        0.006308   \n",
       "8       2.310678      0.136648         0.007252        0.006644   \n",
       "\n",
       "  param_ccp_alpha                                params  split0_test_score  \\\n",
       "0             0.0                    {'ccp_alpha': 0.0}           0.942029   \n",
       "1        0.001901  {'ccp_alpha': 0.0019005960266067316}           0.944444   \n",
       "2        0.007181    {'ccp_alpha': 0.00718094474620129}           0.932367   \n",
       "3        0.007462   {'ccp_alpha': 0.007462070524526878}           0.932367   \n",
       "4        0.047407    {'ccp_alpha': 0.04740741243325547}           0.896135   \n",
       "5        0.073593    {'ccp_alpha': 0.07359346859657476}           0.896135   \n",
       "6        0.111791    {'ccp_alpha': 0.11179106090886329}           0.548309   \n",
       "7        0.168409    {'ccp_alpha': 0.16840865532178284}           0.548309   \n",
       "8        0.182691     {'ccp_alpha': 0.1826911966850756}           0.188406   \n",
       "\n",
       "   split1_test_score  split2_test_score  split3_test_score  split4_test_score  \\\n",
       "0           0.932367           0.939614           0.917874           0.944444   \n",
       "1           0.929952           0.927536           0.932367           0.954106   \n",
       "2           0.915459           0.903382           0.888889           0.939614   \n",
       "3           0.915459           0.903382           0.888889           0.929952   \n",
       "4           0.893720           0.893720           0.862319           0.910628   \n",
       "5           0.893720           0.893720           0.862319           0.910628   \n",
       "6           0.545894           0.543478           0.661836           0.545894   \n",
       "7           0.545894           0.371981           0.371981           0.545894   \n",
       "8           0.185990           0.371981           0.371981           0.371981   \n",
       "\n",
       "   split5_test_score  split6_test_score  split7_test_score  split8_test_score  \\\n",
       "0           0.900726           0.934625           0.927361           0.907990   \n",
       "1           0.915254           0.934625           0.927361           0.915254   \n",
       "2           0.907990           0.920097           0.893462           0.895884   \n",
       "3           0.905569           0.920097           0.891041           0.891041   \n",
       "4           0.871671           0.898305           0.859564           0.866828   \n",
       "5           0.871671           0.898305           0.859564           0.866828   \n",
       "6           0.547215           0.547215           0.547215           0.658596   \n",
       "7           0.375303           0.375303           0.375303           0.375303   \n",
       "8           0.375303           0.375303           0.375303           0.375303   \n",
       "\n",
       "   split9_test_score  mean_test_score  std_test_score  rank_test_score  \n",
       "0           0.905569         0.925260        0.015298                2  \n",
       "1           0.924939         0.930584        0.011344                1  \n",
       "2           0.888620         0.908576        0.017065                3  \n",
       "3           0.888620         0.906642        0.016132                4  \n",
       "4           0.847458         0.880035        0.019855                5  \n",
       "5           0.847458         0.880035        0.019855                5  \n",
       "6           0.668281         0.581393        0.053421                7  \n",
       "7           0.375303         0.426057        0.078991                8  \n",
       "8           0.375303         0.336685        0.074759                9  "
      ]
     },
     "execution_count": 22,
     "metadata": {},
     "output_type": "execute_result"
    }
   ],
   "source": [
    "resultados = pd.DataFrame(grid.cv_results_)\n",
    "resultados"
   ]
  },
  {
   "cell_type": "markdown",
   "metadata": {},
   "source": [
    "### 4. Avaliando a árvore\n",
    "\n",
    "- Obtenha a árvore na melhor configuração treinada em toda a base de treino\n",
    "- Calcule a acurácia dessa árvore na base de testes\n",
    "- Visualize a matriz de confusão"
   ]
  },
  {
   "cell_type": "code",
   "execution_count": 24,
   "metadata": {},
   "outputs": [
    {
     "data": {
      "text/plain": [
       "0.8720732948761453"
      ]
     },
     "execution_count": 24,
     "metadata": {},
     "output_type": "execute_result"
    }
   ],
   "source": [
    "melhor_ccp = resultados.iloc[grid.best_index_,4]\n",
    "clf_final = DecisionTreeClassifier(random_state=SEED, ccp_alpha=melhor_ccp).fit(X_train,y_train)\n",
    "\n",
    "clf_final.score(X_test, y_test)"
   ]
  },
  {
   "cell_type": "code",
   "execution_count": 65,
   "metadata": {},
   "outputs": [
    {
     "data": {
      "image/png": "[encoded data removed]",
      "text/plain": [
       "<Figure size 640x480 with 2 Axes>"
      ]
     },
     "metadata": {},
     "output_type": "display_data"
    }
   ],
   "source": [
    "predictions = clf_final.predict(X_test)\n",
    "cm = confusion_matrix(y_test, predictions)\n",
    "disp = ConfusionMatrixDisplay(confusion_matrix=cm)\n",
    "disp.plot()\n",
    "plt.show()"
   ]
  },
  {
   "cell_type": "markdown",
   "metadata": {},
   "source": [
    "### 5. Melhorando a árvore\n",
    "\n",
    "A melhor forma de se melhorar um algoritmo é colocando nele novas variáveis que agreguem valor. Podemos usar a força-bruta e ir colocando variáveis aleatoriamente - ou colocar todas e deixar rodando por um bom tempo - ou utilizar uma lógica eficiente e fazer uma seleção de variáveis.\n",
    "\n",
    "- Observe que há classes mais fáceis e mais difíceis de se identificar\n",
    "- Crie uma variável binária para uma das classes de maior erro\n",
    "- Fala uma árvore de classificação bem simples para esta variável:\n",
    "    - utilize ```mean_samples_leaf=20```\n",
    "    - utilize ```max_depth=4```\n",
    "    - coloque todas as variáveis\n",
    "- Observe a importância das variáveis, e selecione as 3 com maior importância\n",
    "- Rode novamente o algoritmo acima com as 3 novas variáveis e avalie a acurácia"
   ]
  },
  {
   "cell_type": "code",
   "execution_count": 53,
   "metadata": {},
   "outputs": [
    {
     "data": {
      "text/html": [
       "<div>\n",
       "<style scoped>\n",
       "    .dataframe tbody tr th:only-of-type {\n",
       "        vertical-align: middle;\n",
       "    }\n",
       "\n",
       "    .dataframe tbody tr th {\n",
       "        vertical-align: top;\n",
       "    }\n",
       "\n",
       "    .dataframe thead th {\n",
       "        text-align: right;\n",
       "    }\n",
       "</style>\n",
       "<table border=\"1\" class=\"dataframe\">\n",
       "  <thead>\n",
       "    <tr style=\"text-align: right;\">\n",
       "      <th></th>\n",
       "      <th>4</th>\n",
       "    </tr>\n",
       "  </thead>\n",
       "  <tbody>\n",
       "    <tr>\n",
       "      <th>5579</th>\n",
       "      <td>0</td>\n",
       "    </tr>\n",
       "    <tr>\n",
       "      <th>3093</th>\n",
       "      <td>1</td>\n",
       "    </tr>\n",
       "    <tr>\n",
       "      <th>1705</th>\n",
       "      <td>0</td>\n",
       "    </tr>\n",
       "    <tr>\n",
       "      <th>4177</th>\n",
       "      <td>0</td>\n",
       "    </tr>\n",
       "    <tr>\n",
       "      <th>5573</th>\n",
       "      <td>0</td>\n",
       "    </tr>\n",
       "  </tbody>\n",
       "</table>\n",
       "</div>"
      ],
      "text/plain": [
       "      4\n",
       "5579  0\n",
       "3093  1\n",
       "1705  0\n",
       "4177  0\n",
       "5573  0"
      ]
     },
     "execution_count": 53,
     "metadata": {},
     "output_type": "execute_result"
    }
   ],
   "source": [
    "y_train_dummies = pd.get_dummies(y_train['0'])\n",
    "y_train_cut = y_train_dummies[4].to_frame()\n",
    "y_train_cut.head()"
   ]
  },
  {
   "cell_type": "code",
   "execution_count": 55,
   "metadata": {},
   "outputs": [
    {
     "data": {
      "text/plain": [
       "41 tGravityAcc-mean()-X     0.468560\n",
       "560 angle(Y,gravityMean)    0.293797\n",
       "430 fBodyGyro-mad()-X       0.155650\n",
       "dtype: float64"
      ]
     },
     "execution_count": 55,
     "metadata": {},
     "output_type": "execute_result"
    }
   ],
   "source": [
    "clf_4 = DecisionTreeClassifier(random_state=100, min_samples_leaf = 20, \n",
    "                             max_depth = 4).fit(X_train, y_train_cut)\n",
    "\n",
    "\n",
    "importance_clf = pd.Series(clf_4.feature_importances_, index = X_train.columns)\n",
    "importance_clf.sort_values(ascending = False, inplace = True)\n",
    "importance_clf.head(3)"
   ]
  },
  {
   "cell_type": "code",
   "execution_count": 62,
   "metadata": {},
   "outputs": [],
   "source": [
    "x_train_4 =X_train[['41 tGravityAcc-mean()-X', '560 angle(Y,gravityMean)', '430 fBodyGyro-mad()-X']]\n",
    "x_test_4 = X_test[['41 tGravityAcc-mean()-X', '560 angle(Y,gravityMean)', '430 fBodyGyro-mad()-X']]\n",
    "\n",
    "caminho = DecisionTreeClassifier(max_depth=4, min_samples_leaf=20,\n",
    "                                 random_state=SEED).cost_complexity_pruning_path(x_train_4,y_train)\n",
    "ccp_alphas, impurities = caminho.ccp_alphas, caminho.impurities"
   ]
  },
  {
   "cell_type": "code",
   "execution_count": 64,
   "metadata": {},
   "outputs": [
    {
     "name": "stdout",
     "output_type": "stream",
     "text": [
      "CPU times: total: 1.03 s\n",
      "Wall time: 1.02 s\n"
     ]
    },
    {
     "data": {
      "text/html": [
       "<div>\n",
       "<style scoped>\n",
       "    .dataframe tbody tr th:only-of-type {\n",
       "        vertical-align: middle;\n",
       "    }\n",
       "\n",
       "    .dataframe tbody tr th {\n",
       "        vertical-align: top;\n",
       "    }\n",
       "\n",
       "    .dataframe thead th {\n",
       "        text-align: right;\n",
       "    }\n",
       "</style>\n",
       "<table border=\"1\" class=\"dataframe\">\n",
       "  <thead>\n",
       "    <tr style=\"text-align: right;\">\n",
       "      <th></th>\n",
       "      <th>mean_fit_time</th>\n",
       "      <th>std_fit_time</th>\n",
       "      <th>mean_score_time</th>\n",
       "      <th>std_score_time</th>\n",
       "      <th>param_ccp_alpha</th>\n",
       "      <th>params</th>\n",
       "      <th>split0_test_score</th>\n",
       "      <th>split1_test_score</th>\n",
       "      <th>split2_test_score</th>\n",
       "      <th>split3_test_score</th>\n",
       "      <th>split4_test_score</th>\n",
       "      <th>split5_test_score</th>\n",
       "      <th>split6_test_score</th>\n",
       "      <th>split7_test_score</th>\n",
       "      <th>split8_test_score</th>\n",
       "      <th>split9_test_score</th>\n",
       "      <th>mean_test_score</th>\n",
       "      <th>std_test_score</th>\n",
       "      <th>rank_test_score</th>\n",
       "    </tr>\n",
       "  </thead>\n",
       "  <tbody>\n",
       "    <tr>\n",
       "      <th>0</th>\n",
       "      <td>0.008360</td>\n",
       "      <td>0.007159</td>\n",
       "      <td>0.002162</td>\n",
       "      <td>0.004640</td>\n",
       "      <td>0.0</td>\n",
       "      <td>{'ccp_alpha': 0.0}</td>\n",
       "      <td>0.804348</td>\n",
       "      <td>0.797101</td>\n",
       "      <td>0.775362</td>\n",
       "      <td>0.753623</td>\n",
       "      <td>0.775362</td>\n",
       "      <td>0.796610</td>\n",
       "      <td>0.801453</td>\n",
       "      <td>0.769976</td>\n",
       "      <td>0.767554</td>\n",
       "      <td>0.762712</td>\n",
       "      <td>0.780410</td>\n",
       "      <td>0.017067</td>\n",
       "      <td>1</td>\n",
       "    </tr>\n",
       "    <tr>\n",
       "      <th>1</th>\n",
       "      <td>0.009374</td>\n",
       "      <td>0.007654</td>\n",
       "      <td>0.000000</td>\n",
       "      <td>0.000000</td>\n",
       "      <td>0.001427</td>\n",
       "      <td>{'ccp_alpha': 0.0014269788627663225}</td>\n",
       "      <td>0.804348</td>\n",
       "      <td>0.797101</td>\n",
       "      <td>0.775362</td>\n",
       "      <td>0.753623</td>\n",
       "      <td>0.775362</td>\n",
       "      <td>0.796610</td>\n",
       "      <td>0.801453</td>\n",
       "      <td>0.769976</td>\n",
       "      <td>0.767554</td>\n",
       "      <td>0.762712</td>\n",
       "      <td>0.780410</td>\n",
       "      <td>0.017067</td>\n",
       "      <td>1</td>\n",
       "    </tr>\n",
       "    <tr>\n",
       "      <th>2</th>\n",
       "      <td>0.007812</td>\n",
       "      <td>0.007812</td>\n",
       "      <td>0.001562</td>\n",
       "      <td>0.004687</td>\n",
       "      <td>0.002625</td>\n",
       "      <td>{'ccp_alpha': 0.0026254444160935045}</td>\n",
       "      <td>0.809179</td>\n",
       "      <td>0.794686</td>\n",
       "      <td>0.765700</td>\n",
       "      <td>0.753623</td>\n",
       "      <td>0.777778</td>\n",
       "      <td>0.796610</td>\n",
       "      <td>0.799031</td>\n",
       "      <td>0.779661</td>\n",
       "      <td>0.762712</td>\n",
       "      <td>0.762712</td>\n",
       "      <td>0.780169</td>\n",
       "      <td>0.017911</td>\n",
       "      <td>3</td>\n",
       "    </tr>\n",
       "    <tr>\n",
       "      <th>3</th>\n",
       "      <td>0.006565</td>\n",
       "      <td>0.007236</td>\n",
       "      <td>0.002264</td>\n",
       "      <td>0.004582</td>\n",
       "      <td>0.007321</td>\n",
       "      <td>{'ccp_alpha': 0.007321461253738296}</td>\n",
       "      <td>0.809179</td>\n",
       "      <td>0.794686</td>\n",
       "      <td>0.765700</td>\n",
       "      <td>0.753623</td>\n",
       "      <td>0.777778</td>\n",
       "      <td>0.794189</td>\n",
       "      <td>0.796610</td>\n",
       "      <td>0.779661</td>\n",
       "      <td>0.762712</td>\n",
       "      <td>0.762712</td>\n",
       "      <td>0.779685</td>\n",
       "      <td>0.017454</td>\n",
       "      <td>4</td>\n",
       "    </tr>\n",
       "    <tr>\n",
       "      <th>4</th>\n",
       "      <td>0.007867</td>\n",
       "      <td>0.006876</td>\n",
       "      <td>0.001960</td>\n",
       "      <td>0.004616</td>\n",
       "      <td>0.018928</td>\n",
       "      <td>{'ccp_alpha': 0.01892841054338304}</td>\n",
       "      <td>0.777778</td>\n",
       "      <td>0.794686</td>\n",
       "      <td>0.765700</td>\n",
       "      <td>0.712560</td>\n",
       "      <td>0.777778</td>\n",
       "      <td>0.750605</td>\n",
       "      <td>0.757869</td>\n",
       "      <td>0.738499</td>\n",
       "      <td>0.719128</td>\n",
       "      <td>0.762712</td>\n",
       "      <td>0.755732</td>\n",
       "      <td>0.024837</td>\n",
       "      <td>5</td>\n",
       "    </tr>\n",
       "  </tbody>\n",
       "</table>\n",
       "</div>"
      ],
      "text/plain": [
       "   mean_fit_time  std_fit_time  mean_score_time  std_score_time  \\\n",
       "0       0.008360      0.007159         0.002162        0.004640   \n",
       "1       0.009374      0.007654         0.000000        0.000000   \n",
       "2       0.007812      0.007812         0.001562        0.004687   \n",
       "3       0.006565      0.007236         0.002264        0.004582   \n",
       "4       0.007867      0.006876         0.001960        0.004616   \n",
       "\n",
       "  param_ccp_alpha                                params  split0_test_score  \\\n",
       "0             0.0                    {'ccp_alpha': 0.0}           0.804348   \n",
       "1        0.001427  {'ccp_alpha': 0.0014269788627663225}           0.804348   \n",
       "2        0.002625  {'ccp_alpha': 0.0026254444160935045}           0.809179   \n",
       "3        0.007321   {'ccp_alpha': 0.007321461253738296}           0.809179   \n",
       "4        0.018928    {'ccp_alpha': 0.01892841054338304}           0.777778   \n",
       "\n",
       "   split1_test_score  split2_test_score  split3_test_score  split4_test_score  \\\n",
       "0           0.797101           0.775362           0.753623           0.775362   \n",
       "1           0.797101           0.775362           0.753623           0.775362   \n",
       "2           0.794686           0.765700           0.753623           0.777778   \n",
       "3           0.794686           0.765700           0.753623           0.777778   \n",
       "4           0.794686           0.765700           0.712560           0.777778   \n",
       "\n",
       "   split5_test_score  split6_test_score  split7_test_score  split8_test_score  \\\n",
       "0           0.796610           0.801453           0.769976           0.767554   \n",
       "1           0.796610           0.801453           0.769976           0.767554   \n",
       "2           0.796610           0.799031           0.779661           0.762712   \n",
       "3           0.794189           0.796610           0.779661           0.762712   \n",
       "4           0.750605           0.757869           0.738499           0.719128   \n",
       "\n",
       "   split9_test_score  mean_test_score  std_test_score  rank_test_score  \n",
       "0           0.762712         0.780410        0.017067                1  \n",
       "1           0.762712         0.780410        0.017067                1  \n",
       "2           0.762712         0.780169        0.017911                3  \n",
       "3           0.762712         0.779685        0.017454                4  \n",
       "4           0.762712         0.755732        0.024837                5  "
      ]
     },
     "execution_count": 64,
     "metadata": {},
     "output_type": "execute_result"
    }
   ],
   "source": [
    "%%time\n",
    "clf_4 = DecisionTreeClassifier(random_state=100, min_samples_leaf = 20, \n",
    "                             max_depth = 4).fit(x_train_4, y_train)\n",
    "\n",
    "grid = GridSearchCV(estimator = clf_4, param_grid={'ccp_alpha':ccp_alphas}\n",
    "                    ,cv=10)\n",
    "grid.fit(x_train_4, y_train)\n",
    "\n",
    "results = pd.DataFrame(grid.cv_results_)\n",
    "results.head()"
   ]
  },
  {
   "cell_type": "code",
   "execution_count": 66,
   "metadata": {},
   "outputs": [
    {
     "data": {
      "text/plain": [
       "0.6745843230403801"
      ]
     },
     "execution_count": 66,
     "metadata": {},
     "output_type": "execute_result"
    }
   ],
   "source": [
    "melhor_ccp = results.iloc[grid.best_index_,4]\n",
    "clf_final = DecisionTreeClassifier(random_state=SEED, \n",
    "                                   ccp_alpha=melhor_ccp).fit(x_train_4, y_train)\n",
    "\n",
    "clf_final.score(x_test_4, y_test)"
   ]
  },
  {
   "cell_type": "code",
   "execution_count": 67,
   "metadata": {},
   "outputs": [
    {
     "data": {
      "image/png": "[encoded data removed]",
      "text/plain": [
       "<Figure size 640x480 with 2 Axes>"
      ]
     },
     "metadata": {},
     "output_type": "display_data"
    }
   ],
   "source": [
    "ConfusionMatrixDisplay.from_estimator(clf_final, x_test_4, y_test);"
   ]
  },
  {
   "cell_type": "markdown",
   "metadata": {},
   "source": [
    "Apesar do modelo anterior possuir acurácia geral maior, se desejarmos um modelo apenas para a classe 4 este último acaba sendo melhor que o anterior."
   ]
  }
 ],
 "metadata": {
  "kernelspec": {
   "display_name": "Python 3 (ipykernel)",
   "language": "python",
   "name": "python3"
  },
  "language_info": {
   "codemirror_mode": {
    "name": "ipython",
    "version": 3
   },
   "file_extension": ".py",
   "mimetype": "text/x-python",
   "name": "python",
   "nbconvert_exporter": "python",
   "pygments_lexer": "ipython3",
   "version": "3.10.9"
  },
  "toc": {
   "base_numbering": 1,
   "nav_menu": {},
   "number_sections": false,
   "sideBar": true,
   "skip_h1_title": true,
   "title_cell": "Índice",
   "title_sidebar": "Conteúdo",
   "toc_cell": false,
   "toc_position": {},
   "toc_section_display": true,
   "toc_window_display": true
  },
  "varInspector": {
   "cols": {
    "lenName": 16,
    "lenType": 16,
    "lenVar": 40
   },
   "kernels_config": {
    "python": {
     "delete_cmd_postfix": "",
     "delete_cmd_prefix": "del ",
     "library": "var_list.py",
     "varRefreshCmd": "print(var_dic_list())"
    },
    "r": {
     "delete_cmd_postfix": ") ",
     "delete_cmd_prefix": "rm(",
     "library": "var_list.r",
     "varRefreshCmd": "cat(var_dic_list()) "
    }
   },
   "types_to_exclude": [
    "module",
    "function",
    "builtin_function_or_method",
    "instance",
    "_Feature"
   ],
   "window_display": false
  }
 },
 "nbformat": 4,
 "nbformat_minor": 4
}
